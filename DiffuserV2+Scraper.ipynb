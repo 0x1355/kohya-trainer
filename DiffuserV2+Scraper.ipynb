{
  "nbformat": 4,
  "nbformat_minor": 0,
  "metadata": {
    "colab": {
      "provenance": [],
      "include_colab_link": true
    },
    "kernelspec": {
      "name": "python3",
      "display_name": "Python 3"
    },
    "language_info": {
      "name": "python"
    },
    "accelerator": "GPU",
    "gpuClass": "standard"
  },
  "cells": [
    {
      "cell_type": "markdown",
      "metadata": {
        "id": "view-in-github",
        "colab_type": "text"
      },
      "source": [
        "<a href=\"https://colab.research.google.com/github/Linaqruf/DiffuserV2/blob/main/DiffuserV2%2BScraper.ipynb\" target=\"_parent\"><img src=\"https://colab.research.google.com/assets/colab-badge.svg\" alt=\"Open In Colab\"/></a>"
      ]
    },
    {
      "cell_type": "markdown",
      "source": [
        "#Kohya Trainer : Diffuser V2\n",
        "###with **gallery-dl** image scraper"
      ],
      "metadata": {
        "id": "slgjeYgd6pWp"
      }
    },
    {
      "cell_type": "markdown",
      "source": [
        "Adapted to Google Colab based on [Kohya Guide](https://note.com/kohya_ss/n/nbf7ce8d80f29#c9d7ee61-5779-4436-b4e6-9053741c46bb)\n",
        "\n",
        "Adapted to Google Colab by [Linaqruf](https://github.com/Linaqruf)\n",
        "\n",
        "You can find latest notebook update [here](https://github.com/Linaqruf/DiffuserV2/blob/main/DiffuserV2%2BScraper.ipynb)\n",
        "\n",
        "\n"
      ],
      "metadata": {
        "id": "gPgBR3KM6E-Z"
      }
    },
    {
      "cell_type": "markdown",
      "source": [
        "---\n",
        "#####**_Q: So what's differences between `Kohya Trainer` and other diffusers out there?_**\n",
        "#####A: **Kohya Trainer** implement some new features like\n",
        "- Create captions/tags for every image automatically with BLIP/DeepDanbooru\n",
        "- Read all captions/tags created and put them in metadata.json\n",
        "- Implements [NovelAI Aspect Ratio Bucketing Tool](https://github.com/NovelAI/novelai-aspect-ratio-bucketing) so you don't need to crop image dataset 512x512 ever again\n",
        "\n",
        "#####**_Q: And what's differences between this notebook and other dreambooth notebook out there?_**\n",
        "#####A: We're adding Quality of Life features such as:\n",
        "- Install **gallery-dl** to scrap images, so you can get your own dataset fast with google bandwidth\n",
        "- Huggingface Integration, here you can login to huggingface-hub and upload your trained model/dataset to huggingface\n",
        "---"
      ],
      "metadata": {
        "id": "gSSojWxg7cFP"
      }
    },
    {
      "cell_type": "markdown",
      "source": [
        "#Install Dependencies"
      ],
      "metadata": {
        "id": "h3AuTNu6MFZk"
      }
    },
    {
      "cell_type": "code",
      "source": [
        "#@title Install Diffuser\n",
        "%cd /content/\n",
        "!pip install --upgrade pip\n",
        "!pip install diffusers[torch]==0.7.2"
      ],
      "metadata": {
        "cellView": "form",
        "id": "Aq5cjtG5nJ3Y"
      },
      "execution_count": null,
      "outputs": []
    },
    {
      "cell_type": "code",
      "source": [
        "#@title Install Requirement Library\n",
        "%cd /content/\n",
        "!pip install torch\n",
        "!pip install accelerate\n",
        "!pip install transformers\n",
        "!pip install ftfy\n",
        "!pip install albumentations\n",
        "!pip install opencv-python\n",
        "!pip install einops\n",
        "!pip install pytorch_lightning\n",
        "!pip install bitsandbytes"
      ],
      "metadata": {
        "cellView": "form",
        "id": "4bJ5O9X3pmvH"
      },
      "execution_count": null,
      "outputs": []
    },
    {
      "cell_type": "code",
      "source": [
        "#@title Install Xformers\n",
        "%cd /content/\n",
        "!git clone https://github.com/openai/triton.git\n",
        "\n",
        "# Install Triton\n",
        "%cd /content/triton/python\n",
        "!pip install -e .\n",
        "\n",
        "# Install Xformers\n",
        "%pip install -qq https://github.com/camenduru/stable-diffusion-webui-colab/releases/download/0.0.14/xformers-0.0.14.dev0-cp37-cp37m-linux_x86_64.whl"
      ],
      "metadata": {
        "cellView": "form",
        "id": "Q_DPyXcDqv8J"
      },
      "execution_count": null,
      "outputs": []
    },
    {
      "cell_type": "markdown",
      "source": [
        "#Install DifuserV2"
      ],
      "metadata": {
        "id": "tTVqCAgSmie4"
      }
    },
    {
      "cell_type": "code",
      "execution_count": null,
      "metadata": {
        "cellView": "form",
        "id": "_u3q60di584x"
      },
      "outputs": [],
      "source": [
        "#@title Cloning DiffuserV2\n",
        "%cd /content/\n",
        "!git clone https://github.com/Linaqruf/DiffuserV2"
      ]
    },
    {
      "cell_type": "code",
      "source": [
        "#@title Install DiffuserV2 Requirement\n",
        "%cd /content/DiffuserV2\n",
        "!pip install -r requirements.txt"
      ],
      "metadata": {
        "cellView": "form",
        "id": "WNn0g1pnHfk5"
      },
      "execution_count": null,
      "outputs": []
    },
    {
      "cell_type": "markdown",
      "source": [
        "#Danbooru Scraper"
      ],
      "metadata": {
        "id": "En9UUwGNMRMM"
      }
    },
    {
      "cell_type": "code",
      "source": [
        "#@title Install gallery-dl library\n",
        "!pip install -U gallery-dl"
      ],
      "metadata": {
        "id": "dBi4pk7hy-Jg",
        "cellView": "form"
      },
      "execution_count": null,
      "outputs": []
    },
    {
      "cell_type": "code",
      "source": [
        "#@title Danbooru Scraper\n",
        "#@markdown **How this work?**\n",
        "\n",
        "#@markdown By using **gallery-dl** we can scrap or bulk download images on Internet, on this notebook we will scrap images from Danbooru using tag1 and tag2 as target scraping.\n",
        "%cd /content/DiffuserV2\n",
        "\n",
        "tag = \"betabeet\" #@param {type: \"string\"}\n",
        "tag2 = \"\" #@param {type: \"string\"}\n",
        "output_dir = \"/content/DiffuserV2/train_data\" \n",
        "\n",
        "if tag2 is not \"\":\n",
        "  tag = tag + \"+\" + tag2\n",
        "else:\n",
        "  tag = tag\n",
        "\n",
        "def danbooru_dl():\n",
        "   !gallery-dl \"https://danbooru.donmai.us/posts?tags={tag}+&z=5\" -D {output_dir}\n",
        "\n",
        "danbooru_dl()\n",
        "\n",
        "#@markdown The output directory will be on /content/DiffuserV2/train_data. We also will use this folder as target folder for training next step.\n",
        "\n"
      ],
      "metadata": {
        "cellView": "form",
        "id": "Kt1GzntK_apb"
      },
      "execution_count": null,
      "outputs": []
    },
    {
      "cell_type": "markdown",
      "source": [
        "#DeepDanbooru3 for Autotagger"
      ],
      "metadata": {
        "id": "cSbB9CeqMwbF"
      }
    },
    {
      "cell_type": "code",
      "source": [
        "#@title Install DeepDanbooru\n",
        "%cd /content/\n",
        "!git clone https://github.com/KichangKim/DeepDanbooru DiffuserV2/deepdanbooru\n",
        "\n",
        "%cd /content/DiffuserV2/deepdanbooru\n",
        "!pip install -r requirements.txt\n",
        "!pip install ."
      ],
      "metadata": {
        "cellView": "form",
        "id": "AsLO2-REM8Yd"
      },
      "execution_count": null,
      "outputs": []
    },
    {
      "cell_type": "code",
      "source": [
        "#@title Install DeepDanbooru3 Model\n",
        "%cd /content/DiffuserV2/deepdanbooru\n",
        "!wget -c https://github.com/KichangKim/deepdanbooru/releases/download/v3-20211112-sgd-e28/deepdanbooru-v3-20211112-sgd-e28.zip -O deepdanbooruv3.zip\n",
        "!mkdir deepdanbooruv3\n",
        "!mv deepdanbooruv3.zip deepdanbooruv3"
      ],
      "metadata": {
        "cellView": "form",
        "id": "p8Y1SWWwUO26"
      },
      "execution_count": null,
      "outputs": []
    },
    {
      "cell_type": "code",
      "source": [
        "#@title Unzip DeepDanbooru3 Model\n",
        "%cd /content/DiffuserV2/deepdanbooru/deepdanbooruv3\n",
        "!unzip deepdanbooruv3.zip \n",
        "!rm -rf deepdanbooruv3.zip"
      ],
      "metadata": {
        "cellView": "form",
        "id": "4H5vSQnFXhTO"
      },
      "execution_count": null,
      "outputs": []
    },
    {
      "cell_type": "code",
      "source": [
        "#@title Batch Tag Interrogating and save it as (.txt)\n",
        "%cd /content/DiffuserV2/deepdanbooru/deepdanbooruv3\n",
        "!deepdanbooru evaluate /content/DiffuserV2/train_data \\\n",
        "  --project-path /content/DiffuserV2/deepdanbooru/deepdanbooruv3 \\\n",
        "  --allow-folder \\\n",
        "  --save-txt"
      ],
      "metadata": {
        "cellView": "form",
        "id": "hibZK5NPTjZQ"
      },
      "execution_count": null,
      "outputs": []
    },
    {
      "cell_type": "code",
      "source": [
        "#@title Create Metadata from tags collected\n",
        "%cd /content/DiffuserV2\n",
        "!python merge_dd_tags_to_metadata.py train_data meta_cap_dd.json"
      ],
      "metadata": {
        "cellView": "form",
        "id": "hz2Cmlf2ay9w"
      },
      "execution_count": null,
      "outputs": []
    },
    {
      "cell_type": "code",
      "source": [
        "#@title Clean Metadata.json (not sure it works)\n",
        "%cd /content/DiffuserV2\n",
        "!python clean_captions_and_tags.py train_data meta_cap_dd.json meta_clean.json"
      ],
      "metadata": {
        "cellView": "form",
        "id": "WFq28pPWjLpP"
      },
      "execution_count": null,
      "outputs": []
    },
    {
      "cell_type": "markdown",
      "source": [
        "#Preparing Checkpoint"
      ],
      "metadata": {
        "id": "3gob9_OwTlwh"
      }
    },
    {
      "cell_type": "code",
      "source": [
        "#@title Install Checkpoint\n",
        "%cd /content/DiffuserV2\n",
        "!mkdir checkpoint\n",
        "#@title Download Available Checkpoint\n",
        "\n",
        "def huggingface_checkpoint(url, checkpoint_name):\n",
        "  #@markdown Insert your Huggingface token below\n",
        "  user_token = 'INSERT_HUGGINGFACE_READ_TOKEN_HERE' #@param {'type': 'string'}\n",
        "  user_header = f\"\\\"Authorization: Bearer {user_token}\\\"\"\n",
        "  !wget -c --header={user_header} {url} -O /content/DiffuserV2/checkpoint/{checkpoint_name}.ckpt\n",
        "\n",
        "def custom_checkpoint(url, checkpoint_name):\n",
        "  !wget {url} -O /checkpoint/{checkpoint_name}.ckpt\n",
        "\n",
        "def install_checkpoint():\n",
        "  #@markdown Choose the models you want:\n",
        "  Animefull_Final_Pruned= False #@param {'type':'boolean'}\n",
        "  Waifu_Diffusion_V1_3 = False #@param {'type':'boolean'}\n",
        "  Anything_V3_0_Pruned = True #@param {'type':'boolean'}\n",
        "\n",
        "  if Animefull_Final_Pruned:\n",
        "    huggingface_checkpoint(\"https://huggingface.co/Linaqruf/personal_backup/resolve/main/animeckpt/model-pruned.ckpt\", \"Animefull_Final_Pruned\")\n",
        "  if Waifu_Diffusion_V1_3:\n",
        "    huggingface_checkpoint(\"https://huggingface.co/hakurei/waifu-diffusion-v1-3/resolve/main/wd-v1-3-float32.ckpt\", \"Waifu_Diffusion_V1_3\")\n",
        "  if Anything_V3_0_Pruned:\n",
        "   huggingface_checkpoint(\"https://huggingface.co/Linaqruf/anything-v3.0/resolve/main/Anything-V3.0-pruned.ckpt\", \"Anything_V3_0_Pruned\")\n",
        "\n",
        "install_checkpoint()"
      ],
      "metadata": {
        "cellView": "form",
        "id": "SoucgZQ6jgPQ"
      },
      "execution_count": null,
      "outputs": []
    },
    {
      "cell_type": "code",
      "source": [
        "#@title Download Custom Checkpoint\n",
        "#@markdown If your checkpoint aren't provided on the cell above, you can insert your own here.\n",
        "\n",
        "ckptName = \"betabeet_5000steps\" #@param {'type': 'string'}\n",
        "ckptURL = \"https://huggingface.co/Linaqruf/betabeet/resolve/main/betabeet_5000steps.ckpt\" #@param {'type': 'string'}\n",
        "\n",
        "def custom_checkpoint(url, name):\n",
        "  !wget -c {url} -O /content/DiffuserV2/{name}.ckpt\n",
        "\n",
        "def install_checkpoint():\n",
        "  custom_checkpoint(ckptURL1, ckptName1)\n",
        "\n",
        "install_checkpoint()"
      ],
      "metadata": {
        "id": "vrQ3_jbFTrgL",
        "cellView": "form"
      },
      "execution_count": null,
      "outputs": []
    },
    {
      "cell_type": "markdown",
      "source": [
        "#Prepare Training"
      ],
      "metadata": {
        "id": "15xUbLvQNN28"
      }
    },
    {
      "cell_type": "code",
      "source": [
        "#@title NovelAI Aspect Ratio Bucketing Script\n",
        "%cd /content/DiffuserV2\n",
        "\n",
        "model_dir= \"/content/DiffuserV2/checkpoint/anythingV3.ckpt\" #@param {'type' : 'string'} \n",
        "\n",
        "!python prepare_buckets_latents.py train_data meta_cap_dd.json meta_lat.json {model_dir} \\\n",
        "  --batch_size 4 \\\n",
        "  --max_resolution 512,512 \\\n",
        "  --mixed_precision no"
      ],
      "metadata": {
        "cellView": "form",
        "id": "hhgatqF3leHJ"
      },
      "execution_count": null,
      "outputs": []
    },
    {
      "cell_type": "code",
      "source": [
        "#@title Set config for Accelerate\n",
        "#@markdown #Hint\n",
        "\n",
        "#@markdown 1. In which compute environment are you running? ([0] This machine, [1] AWS (Amazon SageMaker)): 0\n",
        "#@markdown 2. Which type of machine are you using? ([0] No distributed training, [1] multi-CPU, [2] multi-GPU, [3] TPU [4] MPS): 0\n",
        "#@markdown 3. Do you want to run your training on CPU only (even if a GPU is available)? [yes/NO]: NO\n",
        "#@markdown 4. Do you want to use DeepSpeed? [yes/NO]: NO\n",
        "#@markdown 5. What GPU(s) (by id) should be used for training on this machine as a comma-seperated list? [all]\n",
        "#@markdown 6. Do you wish to use FP16 or BF16 (mixed precision)? [NO/fp16/bf16]: fp16\n",
        "!accelerate config"
      ],
      "metadata": {
        "cellView": "form",
        "id": "RnjHb4wgD7vu"
      },
      "execution_count": null,
      "outputs": []
    },
    {
      "cell_type": "markdown",
      "source": [
        "# Start Training\n",
        "\n"
      ],
      "metadata": {
        "id": "yHNbl3O_NSS0"
      }
    },
    {
      "cell_type": "code",
      "source": [
        "#@title Training begin\n",
        "num_cpu_threads_per_process = 8 #@param {'type':'integer'}\n",
        "model_path =\"/content/DiffuserV2/checkpoint/betabeet_5000steps.ckpt\" #@param {'type':'string'}\n",
        "output_dir =\"/content/DiffuserV2/fine_tuned\" #@param {'type':'string'}\n",
        "train_batch_size = 1  #@param {type: \"slider\", min: 1, max: 10}\n",
        "learning_rate =\"2e-6\" #@param {'type':'string'}\n",
        "max_token_length = 225 #@param {'type':'integer'}\n",
        "clip_skip = 2 #@param {type: \"slider\", min: 1, max: 10}\n",
        "mixed_precision = \"fp16\" #@param [\"fp16\", \"bp16\"] {allow-input: false}\n",
        "max_train_steps = 5000 #@param {'type':'integer'}\n",
        "# save_precision = \"fp16\" #@param [\"fp16\", \"bp16\", \"float\"] {allow-input: false}\n",
        "save_every_n_epochs = 4 #@param {'type':'integer'}\n",
        "gradient_accumulation_steps = 1 #@param {type: \"slider\", min: 1, max: 10}\n",
        "\n",
        "%cd /content/DiffuserV2\n",
        "!accelerate launch --num_cpu_threads_per_process {num_cpu_threads_per_process} fine_tune.py \\\n",
        "  --pretrained_model_name_or_path={model_path} \\\n",
        "  --in_json meta_lat.json \\\n",
        "  --train_data_dir=train_data \\\n",
        "  --output_dir={output_dir} \\\n",
        "  --shuffle_caption \\\n",
        "  --train_batch_size={train_batch_size} \\\n",
        "  --learning_rate={learning_rate} \\\n",
        "  --max_token_length={max_token_length} \\\n",
        "  --clip_skip={clip_skip} \\\n",
        "  --mixed_precision={mixed_precision} \\\n",
        "  --max_train_steps={max_train_steps}  \\\n",
        "  --use_8bit_adam \\\n",
        "  --xformers \\\n",
        "  --save_state \\\n",
        "  # --save_precision={save_precision} \\\n",
        "  --gradient_checkpointing \\\n",
        "  --save_every_n_epochs={save_every_n_epochs} \\\n",
        "  --gradient_accumulation_steps {gradient_accumulation_steps}\n",
        "  --resume /content/DiffuserV2/checkpoint/last-state"
      ],
      "metadata": {
        "id": "X_Rd3Eh07xlA"
      },
      "execution_count": null,
      "outputs": []
    },
    {
      "cell_type": "code",
      "source": [
        "#@title Mount to Google Drive\n",
        "mount_drive= False #@param {'type':'boolean'}\n",
        "\n",
        "if mount_drive== True:\n",
        "  from google.colab import drive\n",
        "  drive.mount('/content/drive')"
      ],
      "metadata": {
        "id": "OuRqOSp2eU6t",
        "cellView": "form"
      },
      "execution_count": null,
      "outputs": []
    },
    {
      "cell_type": "markdown",
      "source": [
        "#Huggingface_Hub Integration"
      ],
      "metadata": {
        "id": "QtVP2le8PL2T"
      }
    },
    {
      "cell_type": "markdown",
      "source": [
        "##Instruction:\n",
        "0. Of course you need a Huggingface Account first\n",
        "1. Create your huggingface model repository\n",
        "2. Create huggingface token, go to `Profile > Access Tokens > New Token > Create a new access token` with the `Write` role."
      ],
      "metadata": {
        "id": "tbKgmh_AO5NG"
      }
    },
    {
      "cell_type": "code",
      "source": [
        "#@title Login to Huggingface\n",
        "#@markdown Opt-out this cell when run all\n",
        "from IPython.core.display import HTML\n",
        "\n",
        "opt_out= True #@param {'type':'boolean'}\n",
        "\n",
        "#@markdown Prepare your Huggingface token\n",
        "\n",
        "saved_token= \"SAVE_YOUR_HUGGINGFACE_WRITE_TOKEN_HERE\" #@param {'type': 'string'}\n",
        "\n",
        "if opt_out == False:\n",
        "  from huggingface_hub import notebook_login\n",
        "  notebook_login()\n",
        "\n",
        "else:\n",
        "  display(HTML(f\"<h1>This cell will not running because you choose to opt-out this cell.<h1>\"))"
      ],
      "metadata": {
        "cellView": "form",
        "id": "Da7awoqAPJ3a"
      },
      "execution_count": null,
      "outputs": []
    },
    {
      "cell_type": "markdown",
      "source": [
        "##Commit trained model to Huggingface"
      ],
      "metadata": {
        "id": "jypUkLWc48R_"
      }
    },
    {
      "cell_type": "code",
      "source": [
        "#@title Clone Model\n",
        "from IPython.core.display import HTML\n",
        "\n",
        "#@markdown Opt-out this cell when run all\n",
        "opt_out= True #@param {'type':'boolean'}\n",
        "\n",
        "\n",
        "if opt_out == False:\n",
        "  !pip install huggingface_hub\n",
        "\n",
        "  %cd /content\n",
        "\n",
        "  from huggingface_hub import notebook_login\n",
        "\n",
        "  notebook_login()\n",
        "\n",
        "  Repository_url = \"YOUR_HUGGINGFACE_MODEL_REPOSITORY\" #@param {'type': 'string'}\n",
        "  !git clone {Repository_url}\n",
        "\n",
        "else:\n",
        "  display(HTML(f\"<h1>This cell will not running because you choose to opt-out this cell.<h1>\"))"
      ],
      "metadata": {
        "cellView": "form",
        "id": "182Law9oUiYN"
      },
      "execution_count": null,
      "outputs": []
    },
    {
      "cell_type": "code",
      "source": [
        "#@title Commit to Huggingface\n",
        "#@markdown Opt-out this cell when run all\n",
        "from IPython.core.display import HTML\n",
        "\n",
        "opt_out= True #@param {'type':'boolean'}\n",
        "\n",
        "if opt_out == False:\n",
        "  %cd /content\n",
        "  #@markdown Go to your model path\n",
        "  model_path= \"shrek\" #@param {'type': 'string'}\n",
        "\n",
        "  #@markdown Your path look like /content/**model_path**\n",
        "  #@markdown ___\n",
        "  #@markdown #Git Commit\n",
        "\n",
        "  #@markdown Set **git commit identity**\n",
        "\n",
        "  email= \"YOUR_EMAIL\" #@param {'type': 'string'}\n",
        "  name= \"YOUR_NAME\" #@param {'type': 'string'}\n",
        "  #@markdown Set **commit message**\n",
        "  commit_m= \"Push: shrek-model.ckpt\" #@param {'type': 'string'}\n",
        "\n",
        "  %cd \"/content/{model_path}\"\n",
        "  !git lfs install\n",
        "  !huggingface-cli lfs-enable-largefiles .\n",
        "  !git add .\n",
        "  !git lfs help smudge\n",
        "  !git config --global user.email \"{email}\"\n",
        "  !git config --global user.name \"{name}\"\n",
        "  !git commit -m \"{commit_m}\"\n",
        "  !git push\n",
        "\n",
        "else:\n",
        "  display(HTML(f\"<h1>This cell will not running because you choose to opt-out this cell.<h1>\"))\n"
      ],
      "metadata": {
        "cellView": "form",
        "id": "87wG7QIZbtZE"
      },
      "execution_count": null,
      "outputs": []
    },
    {
      "cell_type": "markdown",
      "source": [
        "##Commit dataset to huggingface"
      ],
      "metadata": {
        "id": "olP2yaK3OKcr"
      }
    },
    {
      "cell_type": "code",
      "source": [
        "#@title Zip train_data\n",
        "\n",
        "%cd /content\n",
        "!zip -r /content/DiffuserV2 /content/DiffuserV2/train_data"
      ],
      "metadata": {
        "id": "BZ8Nrx4-hoQQ",
        "cellView": "form"
      },
      "execution_count": null,
      "outputs": []
    },
    {
      "cell_type": "code",
      "source": [
        "#@title Clone Dataset\n",
        "from IPython.core.display import HTML\n",
        "\n",
        "#@markdown Opt-out this cell when run all\n",
        "opt_out= True #@param {'type':'boolean'}\n",
        "\n",
        "\n",
        "if opt_out == False:\n",
        "  !pip install huggingface_hub\n",
        "\n",
        "  %cd /content\n",
        "\n",
        "  Repository_url = \"YOUR-HUGGINGFACE-DATASET-REPOSITORY\" #@param {'type': 'string'}\n",
        "  !git clone {Repository_url}\n",
        "\n",
        "else:\n",
        "  display(HTML(f\"<h1>This cell will not running because you choose to opt-out this cell.<h1>\"))"
      ],
      "metadata": {
        "cellView": "form",
        "id": "QhL6UgqDOURK"
      },
      "execution_count": null,
      "outputs": []
    },
    {
      "cell_type": "code",
      "source": [
        "#@title Commit to Huggingface\n",
        "#@markdown Opt-out this cell when run all\n",
        "from IPython.core.display import HTML\n",
        "\n",
        "opt_out= True #@param {'type':'boolean'}\n",
        "\n",
        "if opt_out == False:\n",
        "  %cd /content\n",
        "  #@markdown Go to your model path\n",
        "  dataset_path= \"shrek\" #@param {'type': 'string'}\n",
        "\n",
        "  #@markdown Your path look like /content/**dataset_path**\n",
        "  #@markdown ___\n",
        "  #@markdown #Git Commit\n",
        "\n",
        "  #@markdown Set **git commit identity**\n",
        "\n",
        "  email= \"YOUR-EMAIL@gmail.com\" #@param {'type': 'string'}\n",
        "  name= \"YOUR-NAME\" #@param {'type': 'string'}\n",
        "  #@markdown Set **commit message**\n",
        "  commit_m= \"Push: shrek-caption\" #@param {'type': 'string'}\n",
        "\n",
        "  %cd \"/content/{dataset_path}\"\n",
        "  !git lfs install\n",
        "  !huggingface-cli lfs-enable-largefiles .\n",
        "  !git add .\n",
        "  !git lfs help smudge\n",
        "  !git config --global user.email \"{email}\"\n",
        "  !git config --global user.name \"{name}\"\n",
        "  !git commit -m \"{commit_m}\"\n",
        "  !git push\n",
        "\n",
        "else:\n",
        "  display(HTML(f\"<h1>This cell will not running because you choose to opt-out this cell.<h1>\"))\n"
      ],
      "metadata": {
        "cellView": "form",
        "id": "abHLg4I0Os5T"
      },
      "execution_count": null,
      "outputs": []
    }
  ]
}